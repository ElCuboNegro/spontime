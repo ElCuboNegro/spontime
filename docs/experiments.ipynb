{
 "cells": [
  {
   "cell_type": "code",
   "execution_count": 73,
   "metadata": {},
   "outputs": [],
   "source": [
    "import numpy as np\n",
    "import pandas as pd\n",
    "import matplotlib.pyplot as plt\n",
    "import seaborn as sns\n",
    "import warnings\n",
    "from datetime import datetime\n",
    "\n",
    "from sklearn.model_selection import train_test_split\n",
    "from sklearn.utils import shuffle\n",
    "from sklearn.metrics import confusion_matrix, classification_report\n",
    "\n",
    "import xgboost as xgb\n",
    "from xgboost import plot_importance"
   ]
  },
  {
   "cell_type": "code",
   "execution_count": 74,
   "metadata": {},
   "outputs": [],
   "source": [
    "warnings.filterwarnings(\"ignore\")\n",
    "data = pd.read_csv(\"../data/data.csv\")\n",
    "threshold_in_minutes = 15"
   ]
  },
  {
   "cell_type": "code",
   "execution_count": 75,
   "metadata": {},
   "outputs": [],
   "source": [
    "def get_period_day(date):\n",
    "    date_time = datetime.strptime(date, \"%Y-%m-%d %H:%M:%S\").time()\n",
    "    morning_min = datetime.strptime(\"05:00\", \"%H:%M\").time()\n",
    "    morning_max = datetime.strptime(\"11:59\", \"%H:%M\").time()\n",
    "    afternoon_min = datetime.strptime(\"12:00\", \"%H:%M\").time()\n",
    "    afternoon_max = datetime.strptime(\"18:59\", \"%H:%M\").time()\n",
    "    evening_min = datetime.strptime(\"19:00\", \"%H:%M\").time()\n",
    "    evening_max = datetime.strptime(\"23:59\", \"%H:%M\").time()\n",
    "    night_min = datetime.strptime(\"00:00\", \"%H:%M\").time()\n",
    "    night_max = datetime.strptime(\"4:59\", \"%H:%M\").time()\n",
    "\n",
    "    if date_time > morning_min and date_time < morning_max:\n",
    "        return \"mañana\"\n",
    "    elif date_time > afternoon_min and date_time < afternoon_max:\n",
    "        return \"tarde\"\n",
    "    elif (date_time > evening_min and date_time < evening_max) or (\n",
    "        date_time > night_min and date_time < night_max\n",
    "    ):\n",
    "        return \"noche\"\n",
    "\n",
    "\n",
    "def is_high_season(fecha):\n",
    "    fecha_año = int(fecha.split(\"-\")[0])\n",
    "    fecha = datetime.strptime(fecha, \"%Y-%m-%d %H:%M:%S\")\n",
    "    range1_min = datetime.strptime(\"15-Dec\", \"%d-%b\").replace(year=fecha_año)\n",
    "    range1_max = datetime.strptime(\"31-Dec\", \"%d-%b\").replace(year=fecha_año)\n",
    "    range2_min = datetime.strptime(\"1-Jan\", \"%d-%b\").replace(year=fecha_año)\n",
    "    range2_max = datetime.strptime(\"3-Mar\", \"%d-%b\").replace(year=fecha_año)\n",
    "    range3_min = datetime.strptime(\"15-Jul\", \"%d-%b\").replace(year=fecha_año)\n",
    "    range3_max = datetime.strptime(\"31-Jul\", \"%d-%b\").replace(year=fecha_año)\n",
    "    range4_min = datetime.strptime(\"11-Sep\", \"%d-%b\").replace(year=fecha_año)\n",
    "    range4_max = datetime.strptime(\"30-Sep\", \"%d-%b\").replace(year=fecha_año)\n",
    "\n",
    "    if (\n",
    "        (fecha >= range1_min and fecha <= range1_max)\n",
    "        or (fecha >= range2_min and fecha <= range2_max)\n",
    "        or (fecha >= range3_min and fecha <= range3_max)\n",
    "        or (fecha >= range4_min and fecha <= range4_max)\n",
    "    ):\n",
    "        return 1\n",
    "    else:\n",
    "        return 0\n",
    "\n",
    "\n",
    "def get_min_diff(data):\n",
    "    fecha_o = datetime.strptime(data[\"Fecha-O\"], \"%Y-%m-%d %H:%M:%S\")\n",
    "    fecha_i = datetime.strptime(data[\"Fecha-I\"], \"%Y-%m-%d %H:%M:%S\")\n",
    "    min_diff = ((fecha_o - fecha_i).total_seconds()) / 60\n",
    "    return min_diff\n",
    "\n",
    "\n",
    "def get_rate_from_column(data, column):\n",
    "    delays = {}\n",
    "    for _, row in data.iterrows():\n",
    "        if row[\"delay\"] == 1:\n",
    "            if row[column] not in delays:\n",
    "                delays[row[column]] = 1\n",
    "            else:\n",
    "                delays[row[column]] += 1\n",
    "    total = data[column].value_counts().to_dict()\n",
    "\n",
    "    rates = {}\n",
    "    for name, total in total.items():\n",
    "        if name in delays:\n",
    "            rates[name] = round(total / delays[name], 2)\n",
    "        else:\n",
    "            rates[name] = 0\n",
    "\n",
    "    return pd.DataFrame.from_dict(data=rates, orient=\"index\", columns=[\"Tasa (%)\"])"
   ]
  },
  {
   "cell_type": "code",
   "execution_count": 76,
   "metadata": {},
   "outputs": [],
   "source": [
    "data[\"period_day\"] = data[\"Fecha-I\"].apply(get_period_day)\n",
    "data[\"high_season\"] = data[\"Fecha-I\"].apply(is_high_season)\n",
    "data[\"min_diff\"] = data.apply(get_min_diff, axis=1)\n",
    "data[\"delay\"] = np.where(data[\"min_diff\"] > threshold_in_minutes, 1, 0)"
   ]
  },
  {
   "cell_type": "code",
   "execution_count": 77,
   "metadata": {},
   "outputs": [
    {
     "data": {
      "text/plain": [
       "Index(['Fecha-I', 'Vlo-I', 'Ori-I', 'Des-I', 'Emp-I', 'Fecha-O', 'Vlo-O',\n",
       "       'Ori-O', 'Des-O', 'Emp-O', 'DIA', 'MES', 'AÑO', 'DIANOM', 'TIPOVUELO',\n",
       "       'OPERA', 'SIGLAORI', 'SIGLADES', 'period_day', 'high_season',\n",
       "       'min_diff', 'delay'],\n",
       "      dtype='object')"
      ]
     },
     "execution_count": 77,
     "metadata": {},
     "output_type": "execute_result"
    }
   ],
   "source": [
    "data.columns"
   ]
  },
  {
   "cell_type": "code",
   "execution_count": 78,
   "metadata": {},
   "outputs": [],
   "source": [
    "training_data = shuffle(\n",
    "    data[[\"OPERA\", \"MES\", \"TIPOVUELO\", \"SIGLADES\", \"DIANOM\", \"delay\"]], random_state=111\n",
    ")"
   ]
  },
  {
   "cell_type": "code",
   "execution_count": 98,
   "metadata": {},
   "outputs": [
    {
     "data": {
      "text/plain": [
       "array(['American Airlines', 'Air Canada', 'Air France', 'Aeromexico',\n",
       "       'Aerolineas Argentinas', 'Austral', 'Avianca', 'Alitalia',\n",
       "       'British Airways', 'Copa Air', 'Delta Air', 'Gol Trans', 'Iberia',\n",
       "       'K.L.M.', 'Qantas Airways', 'United Airlines', 'Grupo LATAM',\n",
       "       'Sky Airline', 'Latin American Wings', 'Plus Ultra Lineas Aereas',\n",
       "       'JetSmart SPA', 'Oceanair Linhas Aereas', 'Lacsa'], dtype=object)"
      ]
     },
     "execution_count": 98,
     "metadata": {},
     "output_type": "execute_result"
    }
   ],
   "source": [
    "data[\"OPERA\"].unique()"
   ]
  },
  {
   "cell_type": "code",
   "execution_count": 79,
   "metadata": {},
   "outputs": [],
   "source": [
    "features = pd.concat(\n",
    "    [\n",
    "        pd.get_dummies(data[\"OPERA\"], prefix=\"OPERA\"),\n",
    "        pd.get_dummies(data[\"TIPOVUELO\"], prefix=\"TIPOVUELO\"),\n",
    "        pd.get_dummies(data[\"MES\"], prefix=\"MES\"),\n",
    "    ],\n",
    "    axis=1,\n",
    ")\n",
    "target = data[\"delay\"]"
   ]
  },
  {
   "cell_type": "code",
   "execution_count": 80,
   "metadata": {},
   "outputs": [],
   "source": [
    "top_10_features = [\n",
    "    \"OPERA_Latin American Wings\",\n",
    "    \"MES_7\",\n",
    "    \"MES_10\",\n",
    "    \"OPERA_Grupo LATAM\",\n",
    "    \"MES_12\",\n",
    "    \"TIPOVUELO_I\",\n",
    "    \"MES_4\",\n",
    "    \"MES_11\",\n",
    "    \"OPERA_Sky Airline\",\n",
    "    \"OPERA_Copa Air\",\n",
    "]"
   ]
  },
  {
   "cell_type": "code",
   "execution_count": 81,
   "metadata": {},
   "outputs": [],
   "source": [
    "x_train, x_test, y_train, y_test = train_test_split(\n",
    "    features[top_10_features], target, test_size=0.33, random_state=42\n",
    ")"
   ]
  },
  {
   "cell_type": "code",
   "execution_count": 83,
   "metadata": {},
   "outputs": [
    {
     "name": "stdout",
     "output_type": "stream",
     "text": [
      "4.4402380952380955\n"
     ]
    }
   ],
   "source": [
    "n_y0 = len(y_train[y_train == 0])\n",
    "n_y1 = len(y_train[y_train == 1])\n",
    "scale = n_y0 / n_y1"
   ]
  },
  {
   "cell_type": "code",
   "execution_count": 95,
   "metadata": {},
   "outputs": [],
   "source": [
    "xgb_model = xgb.XGBClassifier(\n",
    "    random_state=1,\n",
    "    learning_rate=0.01,\n",
    "    scale_pos_weight=scale,\n",
    "    use_label_encoder=False,\n",
    "    eval_metric=\"logloss\",\n",
    ")\n",
    "xgb_model.fit(x_train, y_train)\n",
    "xgboost_y_preds = xgb_model.predict(x_test)"
   ]
  },
  {
   "cell_type": "code",
   "execution_count": null,
   "metadata": {},
   "outputs": [],
   "source": []
  },
  {
   "cell_type": "code",
   "execution_count": 89,
   "metadata": {},
   "outputs": [
    {
     "name": "stdout",
     "output_type": "stream",
     "text": [
      "              precision    recall  f1-score   support\n",
      "\n",
      "           0       0.88      0.52      0.66     18294\n",
      "           1       0.25      0.69      0.37      4214\n",
      "\n",
      "    accuracy                           0.55     22508\n",
      "   macro avg       0.56      0.61      0.51     22508\n",
      "weighted avg       0.76      0.55      0.60     22508\n",
      "\n"
     ]
    }
   ],
   "source": [
    "print(classification_report(y_test, xgboost_y_preds))"
   ]
  },
  {
   "attachments": {},
   "cell_type": "markdown",
   "metadata": {},
   "source": [
    "## 7. Data Science Conclusions"
   ]
  },
  {
   "attachments": {},
   "cell_type": "markdown",
   "metadata": {},
   "source": [
    "By looking at the results of the 6 trained models, it can be determined:\n",
    "- There is no noticeable difference in results between XGBoost and LogisticRegression.\n",
    "- Does not decrease the performance of the model by reducing the features to the 10 most important.\n",
    "- Improves the model's performance when balancing classes, since it increases the recall of class \"1\"."
   ]
  },
  {
   "attachments": {},
   "cell_type": "markdown",
   "metadata": {},
   "source": [
    "**With this, the model to be productive must be the one that is trained with the top 10 features and class balancing, but which one?**"
   ]
  }
 ],
 "metadata": {
  "kernelspec": {
   "display_name": "mle-challenge",
   "language": "python",
   "name": "python3"
  },
  "language_info": {
   "codemirror_mode": {
    "name": "ipython",
    "version": 3
   },
   "file_extension": ".py",
   "mimetype": "text/x-python",
   "name": "python",
   "nbconvert_exporter": "python",
   "pygments_lexer": "ipython3",
   "version": "3.9.13"
  },
  "orig_nbformat": 4
 },
 "nbformat": 4,
 "nbformat_minor": 2
}
